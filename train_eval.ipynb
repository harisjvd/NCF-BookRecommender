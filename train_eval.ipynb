{
  "cells": [
    {
      "cell_type": "markdown",
      "source": [
        "**REF:** The following implementation is adapted and inspired by\n",
        "https://keras.io/examples/structured_data/collaborative_filtering_movielens/\n",
        "Further details are provided in the associated report.\n"
      ],
      "metadata": {
        "id": "TszSZD0SW4PM"
      }
    },
    {
      "cell_type": "code",
      "execution_count": null,
      "metadata": {
        "id": "1povMLJSrLlT"
      },
      "outputs": [],
      "source": [
        "#Imports\n",
        "import numpy as np\n",
        "import tensorflow as tf\n",
        "from tensorflow import keras\n",
        "from tensorflow.keras import layers\n",
        "from tabulate import tabulate\n",
        "import matplotlib.pyplot as plt\n",
        "import pandas as pd"
      ]
    },
    {
      "cell_type": "markdown",
      "source": [
        "## **Processing Final Dataset**"
      ],
      "metadata": {
        "id": "mdXdnu76UK_7"
      }
    },
    {
      "cell_type": "code",
      "source": [
        "# Defining Functions\n",
        "def preprocess(rating_df):\n",
        "  user_encode = {x: i for i, x in enumerate(rating_df[\"user_id\"].unique().tolist())}\n",
        "  book_ids = rating_df[\"book_id\"].unique().tolist()\n",
        "  book_encode = {x: i for i, x in enumerate(book_ids)}\n",
        "  t_book_encode = {i: x for i, x in enumerate(book_ids)}\n",
        "  rating_df[\"user\"] = rating_df[\"user_id\"].map(user_encode)\n",
        "  rating_df[\"book\"] = rating_df[\"book_id\"].map(book_encode)\n",
        "  rating_df[\"rating\"] = rating_df[\"rating\"].values.astype(np.float32)\n",
        "  min_rating = min(rating_df[\"rating\"])\n",
        "  max_rating = max(rating_df[\"rating\"])\n",
        "  return rating_df, user_encode, book_encode, t_book_encode, min_rating, max_rating"
      ],
      "metadata": {
        "id": "rk6IC4K8R9Dc"
      },
      "execution_count": null,
      "outputs": []
    },
    {
      "cell_type": "code",
      "execution_count": null,
      "metadata": {
        "colab": {
          "base_uri": "https://localhost:8080/"
        },
        "id": "qZz31jCNrLlV",
        "outputId": "2bdfc583-9d4c-436e-a057-137d9359509a"
      },
      "outputs": [
        {
          "output_type": "stream",
          "name": "stdout",
          "text": [
            "# Users: 228\n",
            "# Movies: 59139\n",
            "# Ratings: 100000\n",
            "Data sparsity: 99.67277508267024\n"
          ]
        }
      ],
      "source": [
        "rating_df = pd.read_csv(\"goodreads_ratings.csv\")\n",
        "rating_df, user_encode, book_encode, t_book_encode, min_rating, max_rating = preprocess(df)\n",
        "\n",
        "num_users = len(user_encode)\n",
        "num_books = len(t_book_encode)\n",
        "num_ratings = len(rating_df)\n",
        "\n",
        "#This code segment was taken from https://stackoverflow.com/questions/38708621/how-to-calculate-percentage-of-sparsity-for-a-numpy-array-matrix\n",
        "user_item_df = rating_df.pivot(index='user_id', columns='book_id',  values='rating').fillna(0)\n",
        "non_zero = np.count_nonzero(user_item_df)\n",
        "total_val = np.product(user_item_df.shape)\n",
        "sparsity = ((total_val - non_zero) / total_val)*100\n",
        "\n",
        "print(f\"# Users: {num_users}\")\n",
        "print(f\"# Movies: {num_books}\")\n",
        "print(f\"# Ratings: {num_ratings}\")\n",
        "print(f\"Data sparsity: {sparsity}\")"
      ]
    },
    {
      "cell_type": "markdown",
      "source": [
        "## **Model Training & Evaluation**"
      ],
      "metadata": {
        "id": "La0TxZsPUmtR"
      }
    },
    {
      "cell_type": "code",
      "execution_count": null,
      "metadata": {
        "id": "xcZOuWEUrLlW"
      },
      "outputs": [],
      "source": [
        "rating_df = rating_df.sample(frac=1, random_state=42)\n",
        "x = rating_df[[\"user\", \"book\"]].values\n",
        "\n",
        "# Normalize rating targets between 0 and 1\n",
        "y = rating_df[\"rating\"].apply(lambda x: (x - min_rating) / (max_rating - min_rating)).values\n",
        "# Training on 90% of the data and validating on 10%.\n",
        "train_indices = int(0.9 * rating_df.shape[0])\n",
        "x_train, x_val, y_train, y_val = (\n",
        "    x[:train_indices],\n",
        "    x[train_indices:],\n",
        "    y[:train_indices],\n",
        "    y[train_indices:],\n",
        ")"
      ]
    },
    {
      "cell_type": "code",
      "source": [
        "class NCF(keras.Model):\n",
        "    def __init__(self, num_users, num_books, embedding_size, **kwargs):\n",
        "        super().__init__(**kwargs)\n",
        "\n",
        "        # Define all the layers of the model in the constructor\n",
        "        self.user_embedding = layers.Embedding(num_users, embedding_size, embeddings_initializer=\"he_normal\", embeddings_regularizer=keras.regularizers.l2(1e-6))\n",
        "        self.user_bias = layers.Embedding(num_users, 1)\n",
        "        self.book_embedding = layers.Embedding(num_books, embedding_size, embeddings_initializer=\"he_normal\", embeddings_regularizer=keras.regularizers.l2(1e-6))\n",
        "        self.book_bias = layers.Embedding(num_books, 1)\n",
        "        self.dot = layers.Dot(axes=-1)\n",
        "        self.sigmoid = layers.Activation('sigmoid')\n",
        "\n",
        "    def call(self, inputs):\n",
        "        # Use the defined layers in the call method\n",
        "        user_vector = self.user_embedding(inputs[:, 0])\n",
        "        user_bias = self.user_bias(inputs[:, 0])\n",
        "        book_vector = self.book_embedding(inputs[:, 1])\n",
        "        book_bias = self.book_bias(inputs[:, 1])\n",
        "\n",
        "        dot_user_book = self.dot([user_vector, book_vector])\n",
        "        x = layers.add([dot_user_book, user_bias, book_bias])\n",
        "        return self.sigmoid(x)"
      ],
      "metadata": {
        "id": "p-56b7D-hxIS"
      },
      "execution_count": null,
      "outputs": []
    },
    {
      "cell_type": "code",
      "source": [
        "# Define the model\n",
        "EMBEDDING_SIZE = 50\n",
        "model = NCF(num_users, num_books, EMBEDDING_SIZE)\n",
        "\n",
        "# Use this segment for RMSE Evaluation\n",
        "model.compile(loss=tf.keras.losses.BinaryCrossentropy(), optimizer=tf.keras.optimizers.Adam(learning_rate=0.001), metrics=[tf.keras.metrics.RootMeanSquaredError()])\n",
        "\n",
        "# Use this segment for Precision and Recall Evaluation\n",
        "#model.compile(loss=tf.keras.losses.BinaryCrossentropy(), optimizer=tf.keras.optimizers.Adam(learning_rate=0.001), metrics=[tf.keras.metrics.Recall(), tf.keras.metrics.Precision()])\n",
        "\n",
        "# Train the model based on data split\n",
        "model.fit(x_train, y_train, batch_size=64, epochs=40, verbose=1, validation_data=(x_val, y_val),)"
      ],
      "metadata": {
        "id": "1udXPYSokgJg",
        "colab": {
          "base_uri": "https://localhost:8080/"
        },
        "outputId": "2efba163-e110-4654-aa19-47e28e67aa93"
      },
      "execution_count": null,
      "outputs": [
        {
          "output_type": "stream",
          "name": "stdout",
          "text": [
            "Epoch 1/40\n",
            "1407/1407 [==============================] - 36s 25ms/step - loss: 0.6323 - root_mean_squared_error: 0.4018 - val_loss: 0.5904 - val_root_mean_squared_error: 0.3772\n",
            "Epoch 2/40\n",
            "1407/1407 [==============================] - 35s 25ms/step - loss: 0.4929 - root_mean_squared_error: 0.3149 - val_loss: 0.5619 - val_root_mean_squared_error: 0.3585\n",
            "Epoch 3/40\n",
            "1407/1407 [==============================] - 38s 27ms/step - loss: 0.3279 - root_mean_squared_error: 0.1897 - val_loss: 0.5661 - val_root_mean_squared_error: 0.3570\n",
            "Epoch 4/40\n",
            "1407/1407 [==============================] - 40s 28ms/step - loss: 0.2623 - root_mean_squared_error: 0.1241 - val_loss: 0.5732 - val_root_mean_squared_error: 0.3580\n",
            "Epoch 5/40\n",
            "1407/1407 [==============================] - 41s 29ms/step - loss: 0.2408 - root_mean_squared_error: 0.0981 - val_loss: 0.5800 - val_root_mean_squared_error: 0.3593\n",
            "Epoch 6/40\n",
            "1407/1407 [==============================] - 38s 27ms/step - loss: 0.2314 - root_mean_squared_error: 0.0840 - val_loss: 0.5833 - val_root_mean_squared_error: 0.3595\n",
            "Epoch 7/40\n",
            "1407/1407 [==============================] - 40s 28ms/step - loss: 0.2272 - root_mean_squared_error: 0.0785 - val_loss: 0.5863 - val_root_mean_squared_error: 0.3598\n",
            "Epoch 8/40\n",
            "1407/1407 [==============================] - 38s 27ms/step - loss: 0.2241 - root_mean_squared_error: 0.0728 - val_loss: 0.5882 - val_root_mean_squared_error: 0.3601\n",
            "Epoch 9/40\n",
            "1407/1407 [==============================] - 39s 27ms/step - loss: 0.2221 - root_mean_squared_error: 0.0706 - val_loss: 0.5909 - val_root_mean_squared_error: 0.3606\n",
            "Epoch 10/40\n",
            "1407/1407 [==============================] - 39s 28ms/step - loss: 0.2201 - root_mean_squared_error: 0.0668 - val_loss: 0.5918 - val_root_mean_squared_error: 0.3606\n",
            "Epoch 11/40\n",
            "1407/1407 [==============================] - 37s 27ms/step - loss: 0.2193 - root_mean_squared_error: 0.0670 - val_loss: 0.5941 - val_root_mean_squared_error: 0.3608\n",
            "Epoch 12/40\n",
            "1407/1407 [==============================] - 36s 26ms/step - loss: 0.2180 - root_mean_squared_error: 0.0643 - val_loss: 0.5948 - val_root_mean_squared_error: 0.3610\n",
            "Epoch 13/40\n",
            "1407/1407 [==============================] - 37s 26ms/step - loss: 0.2173 - root_mean_squared_error: 0.0644 - val_loss: 0.5966 - val_root_mean_squared_error: 0.3610\n",
            "Epoch 14/40\n",
            "1407/1407 [==============================] - 38s 27ms/step - loss: 0.2164 - root_mean_squared_error: 0.0621 - val_loss: 0.5974 - val_root_mean_squared_error: 0.3614\n",
            "Epoch 15/40\n",
            "1407/1407 [==============================] - 38s 27ms/step - loss: 0.2160 - root_mean_squared_error: 0.0628 - val_loss: 0.5989 - val_root_mean_squared_error: 0.3614\n",
            "Epoch 16/40\n",
            "1407/1407 [==============================] - 38s 27ms/step - loss: 0.2152 - root_mean_squared_error: 0.0608 - val_loss: 0.5993 - val_root_mean_squared_error: 0.3616\n",
            "Epoch 17/40\n",
            "1407/1407 [==============================] - 37s 26ms/step - loss: 0.2150 - root_mean_squared_error: 0.0615 - val_loss: 0.6004 - val_root_mean_squared_error: 0.3614\n",
            "Epoch 18/40\n",
            "1407/1407 [==============================] - 37s 26ms/step - loss: 0.2143 - root_mean_squared_error: 0.0596 - val_loss: 0.6010 - val_root_mean_squared_error: 0.3617\n",
            "Epoch 19/40\n",
            "1407/1407 [==============================] - 37s 26ms/step - loss: 0.2141 - root_mean_squared_error: 0.0606 - val_loss: 0.6016 - val_root_mean_squared_error: 0.3615\n",
            "Epoch 20/40\n",
            "1407/1407 [==============================] - 37s 26ms/step - loss: 0.2135 - root_mean_squared_error: 0.0590 - val_loss: 0.6024 - val_root_mean_squared_error: 0.3618\n",
            "Epoch 21/40\n",
            "1407/1407 [==============================] - 36s 26ms/step - loss: 0.2133 - root_mean_squared_error: 0.0595 - val_loss: 0.6027 - val_root_mean_squared_error: 0.3615\n",
            "Epoch 22/40\n",
            "1407/1407 [==============================] - 37s 26ms/step - loss: 0.2127 - root_mean_squared_error: 0.0579 - val_loss: 0.6040 - val_root_mean_squared_error: 0.3621\n",
            "Epoch 23/40\n",
            "1407/1407 [==============================] - 37s 26ms/step - loss: 0.2125 - root_mean_squared_error: 0.0586 - val_loss: 0.6043 - val_root_mean_squared_error: 0.3619\n",
            "Epoch 24/40\n",
            "1407/1407 [==============================] - 36s 26ms/step - loss: 0.2119 - root_mean_squared_error: 0.0568 - val_loss: 0.6055 - val_root_mean_squared_error: 0.3625\n",
            "Epoch 25/40\n",
            "1407/1407 [==============================] - 37s 27ms/step - loss: 0.2119 - root_mean_squared_error: 0.0578 - val_loss: 0.6056 - val_root_mean_squared_error: 0.3622\n",
            "Epoch 26/40\n",
            "1407/1407 [==============================] - 36s 26ms/step - loss: 0.2114 - root_mean_squared_error: 0.0565 - val_loss: 0.6065 - val_root_mean_squared_error: 0.3626\n",
            "Epoch 27/40\n",
            "1407/1407 [==============================] - 37s 26ms/step - loss: 0.2112 - root_mean_squared_error: 0.0569 - val_loss: 0.6065 - val_root_mean_squared_error: 0.3623\n",
            "Epoch 28/40\n",
            "1407/1407 [==============================] - 37s 26ms/step - loss: 0.2107 - root_mean_squared_error: 0.0554 - val_loss: 0.6072 - val_root_mean_squared_error: 0.3627\n",
            "Epoch 29/40\n",
            "1407/1407 [==============================] - 36s 26ms/step - loss: 0.2106 - root_mean_squared_error: 0.0563 - val_loss: 0.6076 - val_root_mean_squared_error: 0.3624\n",
            "Epoch 30/40\n",
            "1407/1407 [==============================] - 37s 27ms/step - loss: 0.2102 - root_mean_squared_error: 0.0546 - val_loss: 0.6083 - val_root_mean_squared_error: 0.3629\n",
            "Epoch 31/40\n",
            "1407/1407 [==============================] - 37s 26ms/step - loss: 0.2101 - root_mean_squared_error: 0.0554 - val_loss: 0.6086 - val_root_mean_squared_error: 0.3627\n",
            "Epoch 32/40\n",
            "1407/1407 [==============================] - 36s 26ms/step - loss: 0.2096 - root_mean_squared_error: 0.0539 - val_loss: 0.6091 - val_root_mean_squared_error: 0.3630\n",
            "Epoch 33/40\n",
            "1407/1407 [==============================] - 37s 26ms/step - loss: 0.2096 - root_mean_squared_error: 0.0549 - val_loss: 0.6093 - val_root_mean_squared_error: 0.3628\n",
            "Epoch 34/40\n",
            "1407/1407 [==============================] - 38s 27ms/step - loss: 0.2091 - root_mean_squared_error: 0.0534 - val_loss: 0.6103 - val_root_mean_squared_error: 0.3633\n",
            "Epoch 35/40\n",
            "1407/1407 [==============================] - 39s 27ms/step - loss: 0.2090 - root_mean_squared_error: 0.0539 - val_loss: 0.6102 - val_root_mean_squared_error: 0.3630\n",
            "Epoch 36/40\n",
            "1407/1407 [==============================] - 40s 28ms/step - loss: 0.2086 - root_mean_squared_error: 0.0525 - val_loss: 0.6110 - val_root_mean_squared_error: 0.3634\n",
            "Epoch 37/40\n",
            "1407/1407 [==============================] - 39s 28ms/step - loss: 0.2086 - root_mean_squared_error: 0.0535 - val_loss: 0.6114 - val_root_mean_squared_error: 0.3634\n",
            "Epoch 38/40\n",
            "1407/1407 [==============================] - 38s 27ms/step - loss: 0.2082 - root_mean_squared_error: 0.0520 - val_loss: 0.6120 - val_root_mean_squared_error: 0.3637\n",
            "Epoch 39/40\n",
            "1407/1407 [==============================] - 37s 27ms/step - loss: 0.2080 - root_mean_squared_error: 0.0526 - val_loss: 0.6120 - val_root_mean_squared_error: 0.3636\n",
            "Epoch 40/40\n",
            "1407/1407 [==============================] - 37s 26ms/step - loss: 0.2077 - root_mean_squared_error: 0.0513 - val_loss: 0.6132 - val_root_mean_squared_error: 0.3640\n"
          ]
        },
        {
          "output_type": "execute_result",
          "data": {
            "text/plain": [
              "<keras.callbacks.History at 0x7f9ecdc3c280>"
            ]
          },
          "metadata": {},
          "execution_count": 32
        }
      ]
    },
    {
      "cell_type": "code",
      "execution_count": null,
      "metadata": {
        "id": "48oOzNDWrLlY"
      },
      "outputs": [],
      "source": [
        "# Save the model\n",
        "model.save(\"ncf-model\")"
      ]
    }
  ],
  "metadata": {
    "kernelspec": {
      "display_name": "base",
      "language": "python",
      "name": "python3"
    },
    "language_info": {
      "codemirror_mode": {
        "name": "ipython",
        "version": 3
      },
      "file_extension": ".py",
      "mimetype": "text/x-python",
      "name": "python",
      "nbconvert_exporter": "python",
      "pygments_lexer": "ipython3",
      "version": "3.8.3 (default, Jul  2 2020, 17:30:36) [MSC v.1916 64 bit (AMD64)]"
    },
    "vscode": {
      "interpreter": {
        "hash": "e1ab20fe8211b5242c710e6ec4d49a97f0c4a7db62a3dc2483b939b259d5fb45"
      }
    },
    "colab": {
      "provenance": []
    }
  },
  "nbformat": 4,
  "nbformat_minor": 0
}